{
 "cells": [
  {
   "cell_type": "code",
   "execution_count": null,
   "metadata": {},
   "outputs": [],
   "source": [
    "import numpy as np # linear algebra\n",
    "import pandas as pd # data processing, CSV file I/O (e.g. pd.read_csv)\n",
    "import warnings\n",
    "import itertools\n",
    "import numpy as np\n",
    "import random\n",
    "import statsmodels.api as sm\n",
    "# prophet by Facebook\n",
    "from prophet import Prophet\n",
    "import holidays\n",
    "# time series analysis\n",
    "from statsmodels.tsa.seasonal import seasonal_decompose\n",
    "from statsmodels.graphics.tsaplots import plot_acf, plot_pacf\n",
    "from sklearn.metrics import mean_squared_error, mean_absolute_error, mean_absolute_percentage_error\n",
    "import matplotlib.pyplot as plt\n",
    "import seaborn as sns\n",
    "warnings.filterwarnings(\"ignore\")\n",
    "plt.style.use('fivethirtyeight')"
   ]
  },
  {
   "cell_type": "code",
   "execution_count": null,
   "metadata": {},
   "outputs": [],
   "source": [
    "def iqr(df,degisken):\n",
    "    # 1 ve 3. çeyrekllik hesaplama\n",
    "    q1 = np.quantile(df[degisken], 0.25)\n",
    "    q3 = np.quantile(df[degisken], 0.75)\n",
    "    # iki çeyrek arasındaki %50’lik dilim\n",
    "    diff = q3 - q1\n",
    "    # alt ve üst eşik değerlerini hesaplarken 1. çeyrekten 1.5 kat az, 3. çeyrekten de 1.5 kat fazla olan değeri sınır olarak belirle\n",
    "    lower_t = q1 - (1.5 * diff)\n",
    "    upper_t = q3 + (1.5 * diff)\n",
    "    #eşik değerlerin altında ve üstünde kalan değerleri döndür\n",
    "    \n",
    "    return (df[(df[degisken] < lower_t) | (df[degisken] > upper_t)]),lower_t,upper_t "
   ]
  },
  {
   "cell_type": "code",
   "execution_count": null,
   "metadata": {},
   "outputs": [],
   "source": [
    "df = pd.read_csv('final_data.csv')\n",
    "df"
   ]
  },
  {
   "cell_type": "code",
   "execution_count": null,
   "metadata": {},
   "outputs": [],
   "source": [
    "df['ds'] = pd.to_datetime(df['ds'])\n",
    "df"
   ]
  },
  {
   "cell_type": "code",
   "execution_count": null,
   "metadata": {},
   "outputs": [],
   "source": [
    "def pct_change(y_test, y_pred):\n",
    "    df_pct = pd.DataFrame()\n",
    "    df_pct['y1'] = y_test\n",
    "    df_pct['y2'] = y_pred\n",
    "    return float(abs(df_pct[['y2', 'y1']].pct_change(axis=1)['y1']).mean())"
   ]
  },
  {
   "cell_type": "code",
   "execution_count": null,
   "metadata": {},
   "outputs": [],
   "source": [
    "df_list = []\n",
    "for i in ['Batman', 'Diyarbakir', 'Mardin', 'Siirt', 'Sirnak', 'Urfa']:\n",
    "    df_sub = df[df['il'] == i]\n",
    "    TuketilenEnerjiOutlier,lowerThresh,upperThresh = iqr(df_sub, \"y\")\n",
    "    print('------' + i + '------')\n",
    "    print(\"Çeyrekler Açıklığı  (IQR) Yöntemine Göre: \") \n",
    "    print(f\"TUKETILEN_ENERJI_KWH Değişkeninde Bulunan Aykırı Değer Miktarı: {len(TuketilenEnerjiOutlier)}\")\n",
    "    print(f\"Lower Thresh Değeri: {lowerThresh} | Upper Thresh Değeri: {upperThresh}\") \n",
    "    print('-------------------')\n",
    "    df_sub['y'].mask(df_sub['y'] > upperThresh, df_sub['y'].mean() , inplace=True )\n",
    "    df_sub['y'].mask(df_sub['y'] < lowerThresh, df_sub['y'].mean() , inplace=True )\n",
    "    df_list.append(df_sub)\n",
    "df_all = pd.concat(df_list)"
   ]
  },
  {
   "cell_type": "code",
   "execution_count": null,
   "metadata": {},
   "outputs": [],
   "source": [
    "from sklearn.model_selection import ParameterGrid\n",
    "params_grid = {'seasonality_mode':('multiplicative','additive'),\n",
    "               'changepoint_prior_scale':[0.1,0.2,0.3,0.4,0.5,0.6,0.7,0.8,0.9],\n",
    "              'holidays_prior_scale':[0.1,0.2,0.3,0.4,0.5,0.6, 0.7,0.8,0.9],\n",
    "              'n_changepoints' : [50,100,150,200,250,300,350,400,450,500]}\n",
    "grid = ParameterGrid(params_grid)\n",
    "cnt = 0\n",
    "for p in grid:\n",
    "    cnt = cnt+1\n",
    "\n",
    "print('Total Possible Models',cnt)"
   ]
  },
  {
   "cell_type": "code",
   "execution_count": null,
   "metadata": {},
   "outputs": [],
   "source": [
    "city_list = list(df_all['il'].unique())\n",
    "city_list"
   ]
  },
  {
   "cell_type": "code",
   "execution_count": null,
   "metadata": {},
   "outputs": [],
   "source": [
    "df_param = pd.DataFrame(columns=['il', 'mape', 'params'])\n",
    "\n",
    "for i in city_list:\n",
    "    df_sub = df_all[df_all['il'] == i].reset_index(drop = True)\n",
    "    df_sub.drop('il', axis = 1 , inplace = True)\n",
    "    split_date = '2023-01-01'\n",
    "    df_train = df_sub[df_sub['ds'] < split_date].reset_index(drop = True)\n",
    "    df_test = df_sub[df_sub['ds'] >= split_date].reset_index(drop = True) \n",
    "\n",
    "    model_parameters = pd.DataFrame(columns = ['MAPE','Parameters'])\n",
    "    for p in grid:\n",
    "        test = pd.DataFrame()\n",
    "        print(p)\n",
    "        random.seed(0)\n",
    "        model =Prophet(changepoint_prior_scale = p['changepoint_prior_scale'],\n",
    "                         holidays_prior_scale = p['holidays_prior_scale'],\n",
    "                         n_changepoints = p['n_changepoints'],\n",
    "                         seasonality_mode = p['seasonality_mode'],\n",
    "                         weekly_seasonality=True,\n",
    "                         daily_seasonality = True,\n",
    "                         yearly_seasonality = True,\n",
    "                         interval_width=0.95)\n",
    "        for col in list(df_train.columns)[2:-1]:\n",
    "            model.add_regressor(col, standardize = False)\n",
    "        model.add_country_holidays(country_name='TR')\n",
    "        model.fit(df_train)\n",
    "        \n",
    "        test_forecast = model.predict(df_test)\n",
    "        test_forecast = test_forecast[['ds','yhat']]\n",
    "\n",
    "        \n",
    "        test = pd.concat([df_train[['ds','y']].rename(columns = {'y' : 'yhat'}), test_forecast])\n",
    "        # print(len(df_sub), len(test))\n",
    "        mape = mean_absolute_percentage_error(df_sub['y'],abs(test['yhat']))\n",
    "        print('MAPE------------------------------------',mape)\n",
    "        model_parameters = model_parameters.append({'MAPE':mape,'Parameters':p},ignore_index=True)\n",
    "\n",
    "\n",
    "    parameters = model_parameters.sort_values(by=['MAPE'])\n",
    "    parameters = parameters.reset_index(drop=True)  \n",
    "    mpe = parameters['MAPE'][0]\n",
    "    params = parameters['Parameters'][0]\n",
    "    df_param.loc[len(df_param)] = [i, mpe, params]\n",
    "df_param"
   ]
  },
  {
   "cell_type": "code",
   "execution_count": null,
   "metadata": {},
   "outputs": [],
   "source": [
    "df_param"
   ]
  },
  {
   "cell_type": "code",
   "execution_count": null,
   "metadata": {},
   "outputs": [],
   "source": [
    "best_params = df_param[['il', 'params']].set_index('il').to_dict()['params']\n",
    "best_params"
   ]
  },
  {
   "cell_type": "code",
   "execution_count": null,
   "metadata": {},
   "outputs": [],
   "source": [
    "import json"
   ]
  },
  {
   "cell_type": "code",
   "execution_count": null,
   "metadata": {},
   "outputs": [],
   "source": [
    "with open('prophetCityHourlyParam.txt', 'w') as file:\n",
    "     file.write(json.dumps(best_params))"
   ]
  },
  {
   "cell_type": "code",
   "execution_count": null,
   "metadata": {},
   "outputs": [],
   "source": []
  }
 ],
 "metadata": {
  "kernelspec": {
   "display_name": "omarEnergy",
   "language": "python",
   "name": "python3"
  },
  "language_info": {
   "codemirror_mode": {
    "name": "ipython",
    "version": 3
   },
   "file_extension": ".py",
   "mimetype": "text/x-python",
   "name": "python",
   "nbconvert_exporter": "python",
   "pygments_lexer": "ipython3",
   "version": "3.9.7"
  },
  "orig_nbformat": 4
 },
 "nbformat": 4,
 "nbformat_minor": 2
}
