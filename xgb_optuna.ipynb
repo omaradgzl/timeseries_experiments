{
 "cells": [
  {
   "cell_type": "code",
   "execution_count": null,
   "metadata": {},
   "outputs": [],
   "source": [
    "import xgboost as xgb\n",
    "import optuna\n",
    "import numpy as np # linear algebra\n",
    "import pandas as pd # data processing, CSV file I/O (e.g. pd.read_csv)\n",
    "import warnings\n",
    "import itertools\n",
    "import numpy as np\n",
    "import random\n",
    "import statsmodels.api as sm\n",
    "# time series analysis\n",
    "from statsmodels.tsa.seasonal import seasonal_decompose\n",
    "from statsmodels.graphics.tsaplots import plot_acf, plot_pacf\n",
    "from sklearn.metrics import mean_squared_error, mean_absolute_error, mean_absolute_percentage_error\n",
    "import matplotlib.pyplot as plt\n",
    "import seaborn as sns\n",
    "warnings.filterwarnings(\"ignore\")\n",
    "plt.style.use('fivethirtyeight')"
   ]
  },
  {
   "cell_type": "code",
   "execution_count": null,
   "metadata": {},
   "outputs": [],
   "source": [
    "def iqr(df,degisken):\n",
    "    # 1 ve 3. çeyrekllik hesaplama\n",
    "    q1 = np.quantile(df[degisken], 0.25)\n",
    "    q3 = np.quantile(df[degisken], 0.75)\n",
    "    # iki çeyrek arasındaki %50’lik dilim\n",
    "    diff = q3 - q1\n",
    "    # alt ve üst eşik değerlerini hesaplarken 1. çeyrekten 1.5 kat az, 3. çeyrekten de 1.5 kat fazla olan değeri sınır olarak belirle\n",
    "    lower_t = q1 - (1.5 * diff)\n",
    "    upper_t = q3 + (1.5 * diff)\n",
    "    #eşik değerlerin altında ve üstünde kalan değerleri döndür\n",
    "    \n",
    "    return (df[(df[degisken] < lower_t) | (df[degisken] > upper_t)]),lower_t,upper_t "
   ]
  },
  {
   "cell_type": "code",
   "execution_count": null,
   "metadata": {},
   "outputs": [],
   "source": [
    "df_batman = pd.read_excel('datas/data_batman.xlsx')\n",
    "df_diyarbakir = pd.read_excel('datas/data_diyarbakir.xlsx')\n",
    "df_mardin = pd.read_excel('datas/data_mardin.xlsx')\n",
    "df_siirt = pd.read_excel('datas/data_siirt.xlsx')\n",
    "df_sirnak = pd.read_excel('datas/data_sirnak.xlsx')\n",
    "df_urfa = pd.read_excel('datas/data_urfa.xlsx')"
   ]
  },
  {
   "cell_type": "code",
   "execution_count": null,
   "metadata": {},
   "outputs": [],
   "source": [
    "df_all = pd.concat([df_batman, df_diyarbakir, df_mardin, df_siirt, df_sirnak, df_urfa])\n",
    "df_all['ds'] = pd.to_datetime(df_all['ds'])\n",
    "df_all"
   ]
  },
  {
   "cell_type": "code",
   "execution_count": null,
   "metadata": {},
   "outputs": [],
   "source": [
    "df_all.drop(columns='time', axis= 1, inplace = True)"
   ]
  },
  {
   "cell_type": "code",
   "execution_count": null,
   "metadata": {},
   "outputs": [],
   "source": [
    "df_all"
   ]
  },
  {
   "cell_type": "code",
   "execution_count": null,
   "metadata": {},
   "outputs": [],
   "source": [
    "other_cols = list(df_all.columns)\n",
    "other_cols.remove('y')\n",
    "df_downsized = pd.DataFrame()\n",
    "\n",
    "for city in ['Batman', 'Diyarbakir', 'Mardin', 'Siirt', 'Sirnak', 'Urfa']:\n",
    "    \n",
    "    df = df_all.copy()\n",
    "    df = df[df['il'] == city]\n",
    "\n",
    "    df_y = df[['ds', 'y']].groupby(pd.Grouper(freq='D', key='ds')).sum().reset_index()\n",
    "    df_other = df[other_cols].groupby(pd.Grouper(freq='D', key='ds')).mean().reset_index()\n",
    "    df_other.drop('ds', axis = 1 ,inplace=True)\n",
    "    \n",
    "    df_last = pd.concat([df_y, df_other], axis = 1)\n",
    "    df_last['il'] = city \n",
    "\n",
    "\n",
    "    df_downsized = pd.concat([df_downsized, df_last])\n",
    "\n",
    "df_downsized.reset_index(drop= True, inplace= True)"
   ]
  },
  {
   "cell_type": "code",
   "execution_count": null,
   "metadata": {},
   "outputs": [],
   "source": [
    "df_last_y = df_downsized[['ds', 'y']].groupby(pd.Grouper(freq='D', key='ds')).sum().reset_index()\n",
    "df_last_other = df_downsized[other_cols].groupby(pd.Grouper(freq = 'D', key='ds')).mean().reset_index()\n",
    "df_last_other.drop('ds', axis = 1 ,inplace=True)"
   ]
  },
  {
   "cell_type": "code",
   "execution_count": null,
   "metadata": {},
   "outputs": [],
   "source": [
    "df_final = pd.concat([df_last_y, df_last_other], axis = 1)\n",
    "df_final"
   ]
  },
  {
   "cell_type": "code",
   "execution_count": null,
   "metadata": {},
   "outputs": [],
   "source": [
    "def pct_change(y_test, y_pred):\n",
    "    df = pd.DataFrame(columns = ['y_test', 'y_pred'])\n",
    "    df['y_test'] = y_test\n",
    "    df['y_pred'] = y_pred\n",
    "    return float(abs(df[['y_pred', 'y_test']].pct_change(axis=1)['y_test']).mean())"
   ]
  },
  {
   "cell_type": "code",
   "execution_count": null,
   "metadata": {},
   "outputs": [],
   "source": [
    "while True:\n",
    "    TuketilenEnerjiOutlier,lowerThresh,upperThresh = iqr(df_final, \"y\")\n",
    "    print(\"Çeyrekler Açıklığı  (IQR) Yöntemine Göre: \") \n",
    "    print(f\"TUKETILEN_ENERJI_KWH Değişkeninde Bulunan Aykırı Değer Miktarı: {len(TuketilenEnerjiOutlier)}\")\n",
    "    print(f\"Lower Thresh Değeri: {lowerThresh} | Upper Thresh Değeri: {upperThresh}\") \n",
    "    df_final['y'].mask(df_final['y'] > upperThresh, df_final['y'].mean() , inplace=True)\n",
    "    df_final['y'].mask(df_final['y'] < lowerThresh, df_final['y'].mean() , inplace=True)\n",
    "    if len(TuketilenEnerjiOutlier) <=0:\n",
    "        break"
   ]
  },
  {
   "cell_type": "code",
   "execution_count": null,
   "metadata": {},
   "outputs": [],
   "source": [
    "def create_features(df, label=None, cols_keep = None):\n",
    "    \"\"\"\n",
    "    Creates time series features from datetime index\n",
    "    \"\"\"\n",
    "    df['date'] = df.index\n",
    "    df['hour'] = df['date'].dt.hour\n",
    "    df['dayofweek'] = df['date'].dt.dayofweek\n",
    "    df['quarter'] = df['date'].dt.quarter\n",
    "    df['month'] = df['date'].dt.month\n",
    "    df['year'] = df['date'].dt.year\n",
    "    df['dayofyear'] = df['date'].dt.dayofyear\n",
    "    df['dayofmonth'] = df['date'].dt.day\n",
    "    df['weekofyear'] = df['date'].dt.weekofyear\n",
    "    \n",
    "    if cols_keep == None:\n",
    "        X = df[['hour','dayofweek','quarter','month','year',\n",
    "            'dayofyear','dayofmonth','weekofyear']]\n",
    "    else:\n",
    "        cols_keep = cols_keep + ['hour','dayofweek','quarter','month','year',\n",
    "            'dayofyear','dayofmonth','weekofyear']\n",
    "        X = df[cols_keep]\n",
    "        \n",
    "    if label:\n",
    "        y = df[label]\n",
    "        return X, y\n",
    "    return X"
   ]
  },
  {
   "cell_type": "code",
   "execution_count": null,
   "metadata": {},
   "outputs": [],
   "source": [
    "df_final = df_final.drop(columns= ['weathercode (wmo code)','cloudcover_low (%)','cloudcover_mid (%)','cloudcover_high (%)','et0_fao_evapotranspiration (mm)',\n",
    "                                                                                 'winddirection_10m (°)', 'winddirection_100m (°)','windgusts_10m (km/h)','soil_temperature_100_to_255cm (°C)',\n",
    "                                                                                 'soil_moisture_100_to_255cm (m³/m³)']).reset_index(drop = True)\n"
   ]
  },
  {
   "cell_type": "code",
   "execution_count": null,
   "metadata": {},
   "outputs": [],
   "source": [
    "col_list = list(df_final.columns)\n",
    "col_list.remove('y')\n",
    "col_list.remove('ds')"
   ]
  },
  {
   "cell_type": "code",
   "execution_count": null,
   "metadata": {},
   "outputs": [],
   "source": [
    "split_date = '2023-06-01'\n",
    "df_train = df_final[df_final['ds'] < split_date].reset_index(drop = True)\n",
    "df_test = df_final[df_final['ds'] >= split_date].reset_index(drop = True)\n",
    "X_train, y_train = create_features(df_train.set_index('ds'), label='y', cols_keep = col_list)\n",
    "X_test, y_test = create_features(df_test.set_index('ds'), label='y', cols_keep = col_list)"
   ]
  },
  {
   "cell_type": "code",
   "execution_count": null,
   "metadata": {},
   "outputs": [],
   "source": [
    "def objective(trial):\n",
    "    param = {\n",
    "        'max_depth': trial.suggest_int('max_depth', 1, 10),\n",
    "        'learning_rate': trial.suggest_float('learning_rate', 0.01, 1.0),\n",
    "        'n_estimators': trial.suggest_int('n_estimators', 50, 1000),\n",
    "        'min_child_weight': trial.suggest_int('min_child_weight', 1, 10),\n",
    "        'gamma': trial.suggest_float('gamma', 0.01, 1.0),\n",
    "        'subsample': trial.suggest_float('subsample', 0.01, 1.0),\n",
    "        'colsample_bytree': trial.suggest_float('colsample_bytree', 0.01, 1.0),\n",
    "        'reg_alpha': trial.suggest_float('reg_alpha', 0.01, 1.0),\n",
    "        'reg_lambda': trial.suggest_float('reg_lambda', 0.01, 1.0),\n",
    "        'random_state': trial.suggest_int('random_state', 1, 1000)\n",
    "    }\n",
    "    model = xgb.XGBRegressor(**param)\n",
    "    model.fit(X_train, y_train)\n",
    "    y_pred = model.predict(X_train)\n",
    "    \n",
    "    return pct_change(y_train, y_pred)"
   ]
  },
  {
   "cell_type": "code",
   "execution_count": null,
   "metadata": {},
   "outputs": [],
   "source": [
    "study = optuna.create_study(direction='minimize', study_name='regression')\n",
    "study.optimize(objective, n_trials=20000)"
   ]
  },
  {
   "cell_type": "code",
   "execution_count": null,
   "metadata": {},
   "outputs": [],
   "source": [
    "study.best_params"
   ]
  },
  {
   "cell_type": "code",
   "execution_count": null,
   "metadata": {},
   "outputs": [],
   "source": [
    "model = xgb.XGBRegressor(**study.best_params)\n",
    "model.fit(X_train, y_train)\n",
    "y_pred = model.predict(X_train)\n",
    "\n",
    "pct_change(y_train, y_pred)"
   ]
  },
  {
   "cell_type": "code",
   "execution_count": null,
   "metadata": {},
   "outputs": [],
   "source": [
    "df_train['y_pred'] = y_pred\n",
    "df_train"
   ]
  },
  {
   "cell_type": "code",
   "execution_count": null,
   "metadata": {},
   "outputs": [],
   "source": [
    "_ = df_train.set_index('ds')[['y','y_pred']].plot(figsize=(15, 5)),"
   ]
  },
  {
   "cell_type": "code",
   "execution_count": null,
   "metadata": {},
   "outputs": [],
   "source": [
    "pred_test = model.predict(X_test)"
   ]
  },
  {
   "cell_type": "code",
   "execution_count": null,
   "metadata": {},
   "outputs": [],
   "source": [
    "pct_change(y_test, pred_test)"
   ]
  },
  {
   "cell_type": "code",
   "execution_count": null,
   "metadata": {},
   "outputs": [],
   "source": [
    "df_test['pred'] = pred_test\n",
    "df_test"
   ]
  },
  {
   "cell_type": "code",
   "execution_count": null,
   "metadata": {},
   "outputs": [],
   "source": [
    "_ = df_test.set_index('ds')[['y','pred']].plot(figsize=(15, 5)),"
   ]
  },
  {
   "cell_type": "code",
   "execution_count": null,
   "metadata": {},
   "outputs": [],
   "source": [
    "df_last = pd.concat([df_train, df_test], sort = False)\n",
    "df_last"
   ]
  },
  {
   "cell_type": "code",
   "execution_count": null,
   "metadata": {},
   "outputs": [],
   "source": [
    "_ = df_last.set_index('ds')[['y','pred']].plot(figsize=(15, 5)),"
   ]
  },
  {
   "cell_type": "code",
   "execution_count": null,
   "metadata": {},
   "outputs": [],
   "source": []
  },
  {
   "cell_type": "code",
   "execution_count": null,
   "metadata": {},
   "outputs": [],
   "source": []
  },
  {
   "cell_type": "code",
   "execution_count": null,
   "metadata": {},
   "outputs": [],
   "source": []
  },
  {
   "cell_type": "code",
   "execution_count": null,
   "metadata": {},
   "outputs": [],
   "source": []
  },
  {
   "cell_type": "code",
   "execution_count": null,
   "metadata": {},
   "outputs": [],
   "source": []
  },
  {
   "cell_type": "code",
   "execution_count": null,
   "metadata": {},
   "outputs": [],
   "source": []
  },
  {
   "cell_type": "code",
   "execution_count": null,
   "metadata": {},
   "outputs": [],
   "source": []
  },
  {
   "cell_type": "code",
   "execution_count": null,
   "metadata": {},
   "outputs": [],
   "source": []
  },
  {
   "cell_type": "code",
   "execution_count": null,
   "metadata": {},
   "outputs": [],
   "source": []
  },
  {
   "cell_type": "code",
   "execution_count": null,
   "metadata": {},
   "outputs": [],
   "source": []
  }
 ],
 "metadata": {
  "kernelspec": {
   "display_name": "base",
   "language": "python",
   "name": "python3"
  },
  "language_info": {
   "codemirror_mode": {
    "name": "ipython",
    "version": 3
   },
   "file_extension": ".py",
   "mimetype": "text/x-python",
   "name": "python",
   "nbconvert_exporter": "python",
   "pygments_lexer": "ipython3",
   "version": "3.9.7"
  },
  "orig_nbformat": 4
 },
 "nbformat": 4,
 "nbformat_minor": 2
}
